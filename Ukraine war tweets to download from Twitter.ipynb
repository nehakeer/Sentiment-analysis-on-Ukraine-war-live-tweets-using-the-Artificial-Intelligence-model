{
 "cells": [
  {
   "cell_type": "markdown",
   "metadata": {},
   "source": [
    "# Ukraine war tweets to download from Twitter"
   ]
  },
  {
   "cell_type": "markdown",
   "metadata": {},
   "source": [
    "Import all necessary libraries\n",
    "\n",
    "Using tweepy library, we can use Python to access the Twitter API. We have used numpy and pandas to perform mathematical operations and for data analysis respectively. Using csv, we can read and write csv files. \n",
    "\n",
    "re module provides regular expression support and string module contains number of functions to process standard strings.\n",
    "\n",
    "glob library would help to retrieve files/pathnames matching specific pattern. Random library helps to generate random numbers. Request module allow to send HTTP requests. And using os (Operating System) library, we could create and remove directory folder and fetch its content. "
   ]
  },
  {
   "cell_type": "code",
   "execution_count": 35,
   "metadata": {},
   "outputs": [
    {
     "name": "stdout",
     "output_type": "stream",
     "text": [
      "Requirement already satisfied: tweepy in c:\\users\\nehak\\anaconda3\\envs\\tensorflow\\lib\\site-packages (4.8.0)\n",
      "Requirement already satisfied: requests-oauthlib<2,>=1.2.0 in c:\\users\\nehak\\anaconda3\\envs\\tensorflow\\lib\\site-packages (from tweepy) (1.3.1)\n",
      "Requirement already satisfied: requests<3,>=2.27.0 in c:\\users\\nehak\\anaconda3\\envs\\tensorflow\\lib\\site-packages (from tweepy) (2.27.1)\n",
      "Requirement already satisfied: oauthlib<4,>=3.2.0 in c:\\users\\nehak\\anaconda3\\envs\\tensorflow\\lib\\site-packages (from tweepy) (3.2.0)\n",
      "Requirement already satisfied: urllib3<1.27,>=1.21.1 in c:\\users\\nehak\\anaconda3\\envs\\tensorflow\\lib\\site-packages (from requests<3,>=2.27.0->tweepy) (1.26.9)\n",
      "Requirement already satisfied: idna<4,>=2.5 in c:\\users\\nehak\\anaconda3\\envs\\tensorflow\\lib\\site-packages (from requests<3,>=2.27.0->tweepy) (3.3)\n",
      "Requirement already satisfied: charset-normalizer~=2.0.0 in c:\\users\\nehak\\anaconda3\\envs\\tensorflow\\lib\\site-packages (from requests<3,>=2.27.0->tweepy) (2.0.12)\n",
      "Requirement already satisfied: certifi>=2017.4.17 in c:\\users\\nehak\\anaconda3\\envs\\tensorflow\\lib\\site-packages (from requests<3,>=2.27.0->tweepy) (2021.10.8)\n"
     ]
    }
   ],
   "source": [
    "!pip install tweepy\n",
    "import tweepy # for tweet mining\n",
    "import pandas as pd\n",
    "import numpy as np\n",
    "import csv # to read and write csv files\n",
    "import re # In-built regular expressions library\n",
    "import string # Inbuilt sting library\n",
    "import glob # to retrieve files/pathnames matching a specified pattern. \n",
    "import random # generating random numbers\n",
    "import requests # to send HTTP requests\n",
    "import os\n",
    "\n",
    "\n",
    "# Set the limits for Pandas Dataframe display\n",
    "pd.set_option(\"display.max_rows\", 15)\n",
    "pd.set_option(\"display.max_columns\", 15)\n",
    "pd.set_option(\"display.max_colwidth\", 40)"
   ]
  },
  {
   "cell_type": "markdown",
   "metadata": {},
   "source": [
    "Requested access from Twitter developer site to access Ukraine tweets using access codes and keys"
   ]
  },
  {
   "cell_type": "code",
   "execution_count": 36,
   "metadata": {},
   "outputs": [],
   "source": [
    "# Access keys and codes you need from your Twitter Developer\n",
    "consumer_key = 'syZ2qF3lXsIQfCySv6HKUqn5Y'\n",
    "consumer_secret = '64GTP2cEuy12vADgudPUzZbw19ohYzdWPWELTnzqODwzkR0Y5y'\n",
    "access_key= '1508409612990566404-9MrS1aFkuODiVlvY9vca0LZqyXyW9r'\n",
    "access_secret = 'lkyCDubY1xsEj2oQKNEEKuNWn7L3Vr0maunvjx5FJgFJV'"
   ]
  },
  {
   "cell_type": "markdown",
   "metadata": {},
   "source": [
    "Passed consumer key and secret for authentication and set the rate limit as True as Twitter has certain limit of downloading tweets in one go"
   ]
  },
  {
   "cell_type": "code",
   "execution_count": 37,
   "metadata": {
    "scrolled": true
   },
   "outputs": [],
   "source": [
    "auth = tweepy.OAuthHandler(consumer_key, consumer_secret) # Pass in Consumer key and secret for authentication by API\n",
    "auth.set_access_token(access_key, access_secret) # Pass in Access key and secret for authentication by API\n",
    "api = tweepy.API(auth,wait_on_rate_limit=True) # Sleeps when API limit is reached"
   ]
  },
  {
   "cell_type": "markdown",
   "metadata": {},
   "source": [
    "Create get_tweets function in order to fetch the tweets from Twitter based on search criteria. In this function, we have set structure of the data that needs to be downloaded. Write each record and save the tweets in csv file."
   ]
  },
  {
   "cell_type": "code",
   "execution_count": 33,
   "metadata": {},
   "outputs": [],
   "source": [
    "def get_tweets(search_query, num_tweets):\n",
    "    # Collect tweets using the Cursor object\n",
    "    # Each item in the iterator has various attributes that you can access to get information about each tweet\n",
    "    tweet_list = [tweets for tweets in tweepy.Cursor(api.search_tweets,\n",
    "                                    q=search_query,\n",
    "                                    lang=\"en\",\n",
    "                                    tweet_mode='extended').items(num_tweets)]\n",
    "    # Begin scraping the tweets individually:\n",
    "    for tweet in tweet_list:\n",
    "        tweet_id = tweet.id # get Tweet ID result\n",
    "        created_at = tweet.created_at # get time tweet was created\n",
    "        text = tweet.full_text # retrieve full tweet text\n",
    "        location = tweet.user.location # retrieve user location\n",
    "        retweet = tweet.retweet_count # retrieve number of retweets\n",
    "        favorite = tweet.favorite_count # retrieve number of likes\n",
    "        with open('tweets_UkraineWar.csv','a', newline='', encoding='utf-8') as csvFile:\n",
    "            csv_writer = csv.writer(csvFile, delimiter=',') # create an instance of csv object\n",
    "            csv_writer.writerow([tweet_id, created_at, text, location, retweet, favorite]) # write each row"
   ]
  },
  {
   "cell_type": "markdown",
   "metadata": {},
   "source": [
    "Specified the search criteria and calling get_tweets function by passing two arguments: search criteria and number of tweets to be fetched"
   ]
  },
  {
   "cell_type": "code",
   "execution_count": 34,
   "metadata": {},
   "outputs": [
    {
     "name": "stderr",
     "output_type": "stream",
     "text": [
      "Rate limit reached. Sleeping for: 842\n"
     ]
    }
   ],
   "source": [
    "# Specifying exact phrase to search for. This is not case senstitive\n",
    "search_words = \"Ukraine war\"\n",
    "# Exclude Links, retweets, replies\n",
    "search_query = search_words + \" -filter:retweets AND -filter:replies\"\n",
    "get_tweets(search_query,10000) # Call your function and pass in your search query and number of tweets you want to get"
   ]
  },
  {
   "cell_type": "code",
   "execution_count": null,
   "metadata": {},
   "outputs": [],
   "source": []
  }
 ],
 "metadata": {
  "kernelspec": {
   "display_name": "Python 3 (ipykernel)",
   "language": "python",
   "name": "python3"
  },
  "language_info": {
   "codemirror_mode": {
    "name": "ipython",
    "version": 3
   },
   "file_extension": ".py",
   "mimetype": "text/x-python",
   "name": "python",
   "nbconvert_exporter": "python",
   "pygments_lexer": "ipython3",
   "version": "3.8.13"
  }
 },
 "nbformat": 4,
 "nbformat_minor": 4
}
